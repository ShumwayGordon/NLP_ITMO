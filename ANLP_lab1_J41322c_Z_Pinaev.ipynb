{
  "nbformat": 4,
  "nbformat_minor": 0,
  "metadata": {
    "kernelspec": {
      "display_name": "Python 3",
      "language": "python",
      "name": "python3"
    },
    "language_info": {
      "codemirror_mode": {
        "name": "ipython",
        "version": 3
      },
      "file_extension": ".py",
      "mimetype": "text/x-python",
      "name": "python",
      "nbconvert_exporter": "python",
      "pygments_lexer": "ipython3",
      "version": "3.8.5"
    },
    "colab": {
      "name": "ANLP_lab1_J41322c_Z.Pinaev.ipynb",
      "provenance": [],
      "collapsed_sections": []
    }
  },
  "cells": [
    {
      "cell_type": "markdown",
      "metadata": {
        "id": "TEEKQwtYDMUz"
      },
      "source": [
        "**SOFT DEADLINE:** `20.03.2022 23:59 msk` "
      ]
    },
    {
      "cell_type": "markdown",
      "metadata": {
        "id": "g-IAo9sYDMU-"
      },
      "source": [
        "# [5 points] Part 1. Data cleaning"
      ]
    },
    {
      "cell_type": "markdown",
      "metadata": {
        "id": "-SNyjuGjDMU_"
      },
      "source": [
        "The task is to clear the text data of the crawled web-pages from different sites. \n",
        "\n",
        "It is necessary to ensure that the distribution of the 100 most frequent words includes only meaningful words in english language (not particles, conjunctions, prepositions, numbers, tags, symbols)."
      ]
    },
    {
      "cell_type": "markdown",
      "metadata": {
        "id": "TA4VkGl2DMVB"
      },
      "source": [
        "Determine the order of operations below and carry out the appropriate cleaning.\n",
        "\n",
        "1. Remove non-english words\n",
        "1. Remove html-tags (try to do it with regular expression, or play with beautifulsoap library)\n",
        "1. Apply lemmatization / stemming\n",
        "1. Remove stop-words\n",
        "1. Additional processing - At your own initiative, if this helps to obtain a better distribution"
      ]
    },
    {
      "cell_type": "markdown",
      "metadata": {
        "id": "hjLsB9pdDMVC"
      },
      "source": [
        "#### Hints"
      ]
    },
    {
      "cell_type": "markdown",
      "metadata": {
        "id": "mk6ZLncvDMVD"
      },
      "source": [
        "1. To do text processing you may use nltk and re libraries\n",
        "1. and / or any other libraries on your choise"
      ]
    },
    {
      "cell_type": "code",
      "source": [
        "#import libraries\n",
        "\n",
        "!pip install lxml\n",
        "!pip install boilerpy3\n",
        "!pip install datasketch\n",
        "!pip install topicnet\n",
        "\n",
        "from datasketch import MinHash, MinHashLSH\n",
        "import lxml.html.clean\n",
        "import re\n",
        "from boilerpy3 import extractors\n",
        "import re\n",
        "import csv\n",
        "import string\n",
        "import nltk\n",
        "from nltk.corpus import stopwords\n",
        "import spacy\n",
        "import gensim\n",
        "import numpy as np\n",
        "import pandas as pd\n",
        "import seaborn as sns\n",
        "import plotly.express as px\n",
        "import plotly.graph_objects as go\n",
        "import matplotlib.pyplot as plt\n",
        "from bs4 import BeautifulSoup\n",
        "from progressbar import ProgressBar\n",
        "from gensim.models.coherencemodel import CoherenceModel\n",
        "from gensim.corpora.dictionary import Dictionary\n",
        "import gensim.downloader\n",
        "from sklearn.feature_extraction.text import TfidfVectorizer, CountVectorizer\n",
        "from sklearn.decomposition import NMF, LatentDirichletAllocation\n",
        "from topicnet.cooking_machine.model_constructor import init_simple_default_model\n",
        "from topicnet.cooking_machine.models.topic_model import TopicModel\n",
        "from topicnet.cooking_machine.cubes import RegularizersModifierCube\n",
        "from topicnet.cooking_machine.experiment import Experiment\n",
        "from topicnet.viewers import TopTokensViewer\n",
        "from topicnet.cooking_machine import dataset\n",
        "from collections import Counter\n",
        "import artm\n",
        "from itertools import combinations\n",
        "from topicnet.cooking_machine.models.base_score import BaseScore\n",
        "from nltk.collocations import (\n",
        "    BigramAssocMeasures,\n",
        "    BigramCollocationFinder,\n",
        ")\n",
        "from gensim.models import ldamodel\n",
        "\n",
        "glove_vectors = gensim.downloader.load('glove-twitter-25')\n",
        "nltk.download('stopwords')\n",
        "nltk.download('wordnet')"
      ],
      "metadata": {
        "id": "KCW-PJD_zS3O"
      },
      "execution_count": null,
      "outputs": []
    },
    {
      "cell_type": "markdown",
      "metadata": {
        "id": "KCbTa1OiDMVE"
      },
      "source": [
        "#### Data reading"
      ]
    },
    {
      "cell_type": "markdown",
      "metadata": {
        "id": "cXbG649IDMVG"
      },
      "source": [
        "The dataset for this part can be downloaded here: `https://drive.google.com/file/d/1wLwo83J-ikCCZY2RAoYx8NghaSaQ-lBA/view?usp=sharing`"
      ]
    },
    {
      "cell_type": "code",
      "metadata": {
        "id": "HN8UxSDkDMVH",
        "colab": {
          "base_uri": "https://localhost:8080/"
        },
        "outputId": "1ab45e71-6e86-455b-9bc6-f97aaac5347a"
      },
      "source": [
        "from google.colab import drive\n",
        "drive.mount('/content/drive/')\n",
        "\n",
        "websites = pd.read_csv('/content/drive/My Drive/zweb_sites_data.csv', header=0, sep=',')"
      ],
      "execution_count": null,
      "outputs": [
        {
          "output_type": "stream",
          "name": "stdout",
          "text": [
            "Mounted at /content/drive/\n"
          ]
        }
      ]
    },
    {
      "cell_type": "markdown",
      "metadata": {
        "id": "fGBTg9g4DMVJ"
      },
      "source": [
        "#### Data processing"
      ]
    },
    {
      "cell_type": "code",
      "source": [
        "def beautifulsoup_extract_text(raw_html):\n",
        "    \n",
        "    # Creating the beautifulsoup object:\n",
        "    soup = BeautifulSoup(raw_html, 'lxml')\n",
        "    # Finding the text:\n",
        "    text = soup.find_all(text=True)\n",
        "    # Remove unwanted tag elements:\n",
        "    cleaned_text = ''\n",
        "    blacklist = [\n",
        "        '[document]', 'noscript', 'header', 'html',\n",
        "        'meta', 'head', 'input', 'script', 'style',\n",
        "        'link', 'a']\n",
        "\n",
        "    for item in text:\n",
        "        #if item.parent.name not in blacklist:\n",
        "        if item.parent.name == 'p':\n",
        "            cleaned_text += '{} '.format(item)\n",
        "            \n",
        "    # Remove any tab separation and strip the text:\n",
        "    cleaned_text = cleaned_text.replace('\\t', ' ')\n",
        "    cleaned_text = cleaned_text.replace('\\n', ' ')\n",
        "    cleaned_text = cleaned_text.replace('\\r', ' ')\n",
        "    \n",
        "    return cleaned_text.strip()"
      ],
      "metadata": {
        "id": "OIiNAjXUOcO6"
      },
      "execution_count": null,
      "outputs": []
    },
    {
      "cell_type": "code",
      "source": [
        "# subsampling from initial data\n",
        "N = 5000\n",
        "websites_sample = websites.sample(n=N, random_state=0)\n",
        "websites_sample"
      ],
      "metadata": {
        "colab": {
          "base_uri": "https://localhost:8080/",
          "height": 424
        },
        "id": "EFgigGdHEHQS",
        "outputId": "eafed6b4-b206-46ac-d7c8-ee4c8154257e"
      },
      "execution_count": null,
      "outputs": [
        {
          "output_type": "execute_result",
          "data": {
            "text/plain": [
              "                                                    text\n",
              "20749  <!DOCTYPE html PUBLIC \"-//W3C//DTD XHTML 1.0 T...\n",
              "27009  <HTML><HEAD><TITLE>Quote for EK - FreeRealTime...\n",
              "8834    \\n \\n \\n \\n \\n<!DOCTYPE HTML PUBLIC \"-//W3C//...\n",
              "66783  \\n<html><head>\\n<html>\\n<head>\\n\\n<title>Weeke...\n",
              "31151  <!-- START 'htmlHead' -->\\n<link rel=\"alternat...\n",
              "...                                                  ...\n",
              "25678  <!-- Generated on SEC-MW08 -->\\n<SCRIPT LANGUA...\n",
              "3664   \\n\\n\\n<!DOCTYPE html PUBLIC \"-//W3C//DTD XHTML...\n",
              "5687   <!DOCTYPE html PUBLIC \"-//W3C//DTD XHTML 1.1//...\n",
              "53377  \\n\\n\\n\\n\\n\\n\\n\\n\\n\\n\\n\\t\\n\\n\\n\\t\\n\\t\\t\\n\\t\\n\\t...\n",
              "22709  <!DOCTYPE html PUBLIC \"-//W3C//DTD XHTML 1.0 T...\n",
              "\n",
              "[5000 rows x 1 columns]"
            ],
            "text/html": [
              "\n",
              "  <div id=\"df-07018bac-0400-4dd4-9f5d-fa97e8277fe0\">\n",
              "    <div class=\"colab-df-container\">\n",
              "      <div>\n",
              "<style scoped>\n",
              "    .dataframe tbody tr th:only-of-type {\n",
              "        vertical-align: middle;\n",
              "    }\n",
              "\n",
              "    .dataframe tbody tr th {\n",
              "        vertical-align: top;\n",
              "    }\n",
              "\n",
              "    .dataframe thead th {\n",
              "        text-align: right;\n",
              "    }\n",
              "</style>\n",
              "<table border=\"1\" class=\"dataframe\">\n",
              "  <thead>\n",
              "    <tr style=\"text-align: right;\">\n",
              "      <th></th>\n",
              "      <th>text</th>\n",
              "    </tr>\n",
              "  </thead>\n",
              "  <tbody>\n",
              "    <tr>\n",
              "      <th>20749</th>\n",
              "      <td>&lt;!DOCTYPE html PUBLIC \"-//W3C//DTD XHTML 1.0 T...</td>\n",
              "    </tr>\n",
              "    <tr>\n",
              "      <th>27009</th>\n",
              "      <td>&lt;HTML&gt;&lt;HEAD&gt;&lt;TITLE&gt;Quote for EK - FreeRealTime...</td>\n",
              "    </tr>\n",
              "    <tr>\n",
              "      <th>8834</th>\n",
              "      <td>\\n \\n \\n \\n \\n&lt;!DOCTYPE HTML PUBLIC \"-//W3C//...</td>\n",
              "    </tr>\n",
              "    <tr>\n",
              "      <th>66783</th>\n",
              "      <td>\\n&lt;html&gt;&lt;head&gt;\\n&lt;html&gt;\\n&lt;head&gt;\\n\\n&lt;title&gt;Weeke...</td>\n",
              "    </tr>\n",
              "    <tr>\n",
              "      <th>31151</th>\n",
              "      <td>&lt;!-- START 'htmlHead' --&gt;\\n&lt;link rel=\"alternat...</td>\n",
              "    </tr>\n",
              "    <tr>\n",
              "      <th>...</th>\n",
              "      <td>...</td>\n",
              "    </tr>\n",
              "    <tr>\n",
              "      <th>25678</th>\n",
              "      <td>&lt;!-- Generated on SEC-MW08 --&gt;\\n&lt;SCRIPT LANGUA...</td>\n",
              "    </tr>\n",
              "    <tr>\n",
              "      <th>3664</th>\n",
              "      <td>\\n\\n\\n&lt;!DOCTYPE html PUBLIC \"-//W3C//DTD XHTML...</td>\n",
              "    </tr>\n",
              "    <tr>\n",
              "      <th>5687</th>\n",
              "      <td>&lt;!DOCTYPE html PUBLIC \"-//W3C//DTD XHTML 1.1//...</td>\n",
              "    </tr>\n",
              "    <tr>\n",
              "      <th>53377</th>\n",
              "      <td>\\n\\n\\n\\n\\n\\n\\n\\n\\n\\n\\n\\t\\n\\n\\n\\t\\n\\t\\t\\n\\t\\n\\t...</td>\n",
              "    </tr>\n",
              "    <tr>\n",
              "      <th>22709</th>\n",
              "      <td>&lt;!DOCTYPE html PUBLIC \"-//W3C//DTD XHTML 1.0 T...</td>\n",
              "    </tr>\n",
              "  </tbody>\n",
              "</table>\n",
              "<p>5000 rows × 1 columns</p>\n",
              "</div>\n",
              "      <button class=\"colab-df-convert\" onclick=\"convertToInteractive('df-07018bac-0400-4dd4-9f5d-fa97e8277fe0')\"\n",
              "              title=\"Convert this dataframe to an interactive table.\"\n",
              "              style=\"display:none;\">\n",
              "        \n",
              "  <svg xmlns=\"http://www.w3.org/2000/svg\" height=\"24px\"viewBox=\"0 0 24 24\"\n",
              "       width=\"24px\">\n",
              "    <path d=\"M0 0h24v24H0V0z\" fill=\"none\"/>\n",
              "    <path d=\"M18.56 5.44l.94 2.06.94-2.06 2.06-.94-2.06-.94-.94-2.06-.94 2.06-2.06.94zm-11 1L8.5 8.5l.94-2.06 2.06-.94-2.06-.94L8.5 2.5l-.94 2.06-2.06.94zm10 10l.94 2.06.94-2.06 2.06-.94-2.06-.94-.94-2.06-.94 2.06-2.06.94z\"/><path d=\"M17.41 7.96l-1.37-1.37c-.4-.4-.92-.59-1.43-.59-.52 0-1.04.2-1.43.59L10.3 9.45l-7.72 7.72c-.78.78-.78 2.05 0 2.83L4 21.41c.39.39.9.59 1.41.59.51 0 1.02-.2 1.41-.59l7.78-7.78 2.81-2.81c.8-.78.8-2.07 0-2.86zM5.41 20L4 18.59l7.72-7.72 1.47 1.35L5.41 20z\"/>\n",
              "  </svg>\n",
              "      </button>\n",
              "      \n",
              "  <style>\n",
              "    .colab-df-container {\n",
              "      display:flex;\n",
              "      flex-wrap:wrap;\n",
              "      gap: 12px;\n",
              "    }\n",
              "\n",
              "    .colab-df-convert {\n",
              "      background-color: #E8F0FE;\n",
              "      border: none;\n",
              "      border-radius: 50%;\n",
              "      cursor: pointer;\n",
              "      display: none;\n",
              "      fill: #1967D2;\n",
              "      height: 32px;\n",
              "      padding: 0 0 0 0;\n",
              "      width: 32px;\n",
              "    }\n",
              "\n",
              "    .colab-df-convert:hover {\n",
              "      background-color: #E2EBFA;\n",
              "      box-shadow: 0px 1px 2px rgba(60, 64, 67, 0.3), 0px 1px 3px 1px rgba(60, 64, 67, 0.15);\n",
              "      fill: #174EA6;\n",
              "    }\n",
              "\n",
              "    [theme=dark] .colab-df-convert {\n",
              "      background-color: #3B4455;\n",
              "      fill: #D2E3FC;\n",
              "    }\n",
              "\n",
              "    [theme=dark] .colab-df-convert:hover {\n",
              "      background-color: #434B5C;\n",
              "      box-shadow: 0px 1px 3px 1px rgba(0, 0, 0, 0.15);\n",
              "      filter: drop-shadow(0px 1px 2px rgba(0, 0, 0, 0.3));\n",
              "      fill: #FFFFFF;\n",
              "    }\n",
              "  </style>\n",
              "\n",
              "      <script>\n",
              "        const buttonEl =\n",
              "          document.querySelector('#df-07018bac-0400-4dd4-9f5d-fa97e8277fe0 button.colab-df-convert');\n",
              "        buttonEl.style.display =\n",
              "          google.colab.kernel.accessAllowed ? 'block' : 'none';\n",
              "\n",
              "        async function convertToInteractive(key) {\n",
              "          const element = document.querySelector('#df-07018bac-0400-4dd4-9f5d-fa97e8277fe0');\n",
              "          const dataTable =\n",
              "            await google.colab.kernel.invokeFunction('convertToInteractive',\n",
              "                                                     [key], {});\n",
              "          if (!dataTable) return;\n",
              "\n",
              "          const docLinkHtml = 'Like what you see? Visit the ' +\n",
              "            '<a target=\"_blank\" href=https://colab.research.google.com/notebooks/data_table.ipynb>data table notebook</a>'\n",
              "            + ' to learn more about interactive tables.';\n",
              "          element.innerHTML = '';\n",
              "          dataTable['output_type'] = 'display_data';\n",
              "          await google.colab.output.renderOutput(dataTable, element);\n",
              "          const docLink = document.createElement('div');\n",
              "          docLink.innerHTML = docLinkHtml;\n",
              "          element.appendChild(docLink);\n",
              "        }\n",
              "      </script>\n",
              "    </div>\n",
              "  </div>\n",
              "  "
            ]
          },
          "metadata": {},
          "execution_count": 4
        }
      ]
    },
    {
      "cell_type": "code",
      "source": [
        "# cleaning text of html\n",
        "\n",
        "pbar = ProgressBar()\n",
        "for i in pbar(websites_sample['text'].index):\n",
        "    websites_sample[\"text\"].loc[ i ] = beautifulsoup_extract_text(websites_sample[\"text\"].loc[ i ])\n",
        "    "
      ],
      "metadata": {
        "id": "vM4mzBRv2t1V",
        "colab": {
          "base_uri": "https://localhost:8080/"
        },
        "outputId": "743cf148-6e47-4194-f562-386955d8b7df"
      },
      "execution_count": null,
      "outputs": [
        {
          "output_type": "stream",
          "name": "stderr",
          "text": [
            "100% (5000 of 5000) |####################| Elapsed Time: 0:05:46 Time:  0:05:46\n"
          ]
        }
      ]
    },
    {
      "cell_type": "code",
      "source": [
        "for i in websites_sample.index:\n",
        "    if websites_sample[\"text\"].loc[i] == '':\n",
        "        websites_sample = websites_sample.drop( i )\n"
      ],
      "metadata": {
        "id": "SOTstkknn1em"
      },
      "execution_count": null,
      "outputs": []
    },
    {
      "cell_type": "code",
      "source": [
        "signs = string.punctuation\n",
        "for i in range(10):\n",
        "    signs += str(i)\n",
        "\n",
        "sp = spacy.load('en_core_web_sm')\n",
        "\n",
        "stop_words = set(stopwords.words('english'))\n",
        "\n",
        "stop_words.add('-PRON-')\n",
        "stop_words.add('average')\n",
        "stop_words.add('inc')\n",
        "stop_words.add('time')\n",
        "stop_words.add('new')\n",
        "stop_words.add('right')\n",
        "stop_words.add('provide')\n",
        "stop_words.add('user')\n",
        "stop_words.add('use')\n",
        "stop_words.add('minute')\n",
        "stop_words.add('day')\n",
        "stop_words.add('get')\n",
        "stop_words.add('th')\n",
        "stop_words.add('data')\n",
        "stop_words.add('one')\n",
        "stop_words.add('see')\n",
        "stop_words.add('year')\n",
        "stop_words.add('make')\n",
        "stop_words.add('copyright')\n",
        "stop_words.add('site')\n",
        "stop_words.add('give')\n",
        "stop_words.add('find')\n",
        "stop_words.add('like')\n",
        "stop_words.add('th')\n",
        "\n",
        "\n",
        "pbar = ProgressBar()\n",
        "\n",
        "for i in pbar(websites_sample['text'].index):\n",
        "\n",
        "    text = websites_sample[\"text\"].loc[ i ]\n",
        "\n",
        "    # split into words by white space\n",
        "    words = text.split()\n",
        "\n",
        "    # normalizing case\n",
        "    words = [word.lower() for word in words]\n",
        "\n",
        "    # removing punctuation and digits\n",
        "    table = str.maketrans('', '', signs)\n",
        "    words = [w.translate(table) for w in words]\n",
        "    words = [word for word in words if len(word) > 1]\n",
        "\n",
        "    # lemmatization\n",
        "    temp_text = ''\n",
        "    for w in words:\n",
        "        temp_text += str(w) + str(' ')\n",
        "    words = [token.lemma_ for token in sp(temp_text)]\n",
        "    \n",
        "    # removing stop words\n",
        "    words = [w for w in words if not w in stop_words]\n",
        "\n",
        "    if len(words) < 10:\n",
        "        websites_sample = websites_sample.drop( i )\n",
        "    else:\n",
        "        temp_text = ''\n",
        "        for w in words:\n",
        "            temp_text += str(w) + str(' ')\n",
        "        websites_sample[\"text\"].loc[ i ] = temp_text"
      ],
      "metadata": {
        "id": "2LNTGWCEqqqs",
        "colab": {
          "base_uri": "https://localhost:8080/"
        },
        "outputId": "20973d59-0e5f-4748-93a2-d08434996188"
      },
      "execution_count": null,
      "outputs": [
        {
          "output_type": "stream",
          "name": "stderr",
          "text": [
            "100% (2367 of 2367) |####################| Elapsed Time: 0:02:05 Time:  0:02:05\n"
          ]
        }
      ]
    },
    {
      "cell_type": "markdown",
      "metadata": {
        "id": "_h_c-1kBDMVN"
      },
      "source": [
        "#### Vizualization"
      ]
    },
    {
      "cell_type": "markdown",
      "metadata": {
        "id": "HTu83iAWDMVN"
      },
      "source": [
        "As a visualisation, it is necessary to construct a frequency distribution of words (the 100 most common words), sorted by frequency. \n",
        "\n",
        "For visualization purposes we advice you to use plotly, but you are free to choose other libraries"
      ]
    },
    {
      "cell_type": "code",
      "metadata": {
        "id": "bHX6IXcrDMVO",
        "colab": {
          "base_uri": "https://localhost:8080/"
        },
        "outputId": "bd4e1123-8055-4046-86b0-240fde2b21cd"
      },
      "source": [
        "# estimating words appearance frequency\n",
        "frequency = {}\n",
        "pbar = ProgressBar()\n",
        "for i in pbar(websites_sample['text'].index):\n",
        "    \n",
        "    text = websites_sample[\"text\"].loc[ i ]\n",
        "    words = text.split()\n",
        "\n",
        "    for word in words:\n",
        "        if word in frequency:\n",
        "            frequency[word] += 1\n",
        "        else:\n",
        "            frequency[word] = 1\n",
        "\n",
        "# Top 100 most used words\n",
        "frequency = dict(sorted(frequency.items(), key=lambda item: item[1], reverse = True))\n",
        "print(list(frequency.items())[:50])"
      ],
      "execution_count": null,
      "outputs": [
        {
          "output_type": "stream",
          "name": "stderr",
          "text": [
            "100% (1822 of 1822) |####################| Elapsed Time: 0:00:00 Time:  0:00:00\n"
          ]
        },
        {
          "output_type": "stream",
          "name": "stdout",
          "text": [
            "[('game', 2210), ('stock', 1447), ('score', 1390), ('marketwatch', 889), ('player', 832), ('market', 817), ('play', 772), ('information', 758), ('critic', 718), ('datum', 656), ('delay', 637), ('take', 552), ('world', 531), ('reserve', 517), ('rating', 512), ('alert', 504), ('current', 490), ('news', 464), ('good', 463), ('quote', 454), ('businesswire', 428), ('analysis', 426), ('base', 425), ('company', 417), ('character', 397), ('goal', 389), ('jun', 387), ('way', 381), ('feature', 380), ('newswire', 377), ('nintendo', 374), ('pr', 373), ('also', 351), ('trading', 350), ('mode', 349), ('nasdaq', 343), ('trimable', 343), ('may', 338), ('service', 332), ('action', 330), ('story', 329), ('first', 326), ('sign', 324), ('back', 323), ('video', 322), ('wsjcom', 320), ('free', 317), ('interactive', 315), ('gameplay', 314), ('st', 312)]\n"
          ]
        }
      ]
    },
    {
      "cell_type": "code",
      "source": [
        "val = list(frequency.values())\n",
        "words_100 = list(frequency.keys())\n",
        "\n",
        "plt.figure(figsize=(16, 16))\n",
        "sns.barplot(val[0:100], words_100[0:100])\n",
        "plt.grid(True)\n",
        "plt.show()"
      ],
      "metadata": {
        "colab": {
          "base_uri": "https://localhost:8080/",
          "height": 973
        },
        "id": "IAxWWzB8w10Q",
        "outputId": "2f8c3b6a-e6eb-44f2-9dca-77e94ac14cde"
      },
      "execution_count": null,
      "outputs": [
        {
          "output_type": "stream",
          "name": "stderr",
          "text": [
            "/usr/local/lib/python3.7/dist-packages/seaborn/_decorators.py:43: FutureWarning: Pass the following variables as keyword args: x, y. From version 0.12, the only valid positional argument will be `data`, and passing other arguments without an explicit keyword will result in an error or misinterpretation.\n",
            "  FutureWarning\n"
          ]
        },
        {
          "output_type": "display_data",
          "data": {
            "text/plain": [
              "<Figure size 1152x1152 with 1 Axes>"
            ],
            "image/png": "[encoded data removed]"
          },
          "metadata": {
            "needs_background": "light"
          }
        }
      ]
    },
    {
      "cell_type": "markdown",
      "metadata": {
        "id": "5ZxcPfLTDMVO"
      },
      "source": [
        "#### Provide examples of processed text (some parts)\n",
        "\n",
        "Is everything all right with the result of cleaning these examples? What kind of information was lost?"
      ]
    },
    {
      "cell_type": "markdown",
      "source": [
        "After processing most part of data seems okay, but there are some documents, which contain only few words and there are some documents, where some letters were lost"
      ],
      "metadata": {
        "id": "V4LoFczX8Lg2"
      }
    },
    {
      "cell_type": "code",
      "metadata": {
        "id": "2BSMfa9lDMVP",
        "colab": {
          "base_uri": "https://localhost:8080/"
        },
        "outputId": "bca30495-ac6c-435d-c8b7-7ad8d35f3dee"
      },
      "source": [
        "print(websites_sample[\"text\"].loc[20749])"
      ],
      "execution_count": null,
      "outputs": [
        {
          "output_type": "stream",
          "name": "stdout",
          "text": [
            "create revere japanese developer treasure bangaio spirit reimagination hit dreamcast game bangaio twitchf shooter gameplay include level punish supermove exclusive content western version sensory overload firework onscreen bangaio spirit boast powerful level editor tool local wireless multiplayer four player pioneer sound load technology bangaio spirit blast retail store august exclusively nintendo ds critic score score \n"
          ]
        }
      ]
    },
    {
      "cell_type": "code",
      "metadata": {
        "id": "0xn6XK7UDMVP",
        "colab": {
          "base_uri": "https://localhost:8080/"
        },
        "outputId": "8e2c9c37-0df4-47d6-9084-1e3e140a0251"
      },
      "source": [
        "print(websites_sample[\"text\"].loc[22709])"
      ],
      "execution_count": null,
      "outputs": [
        {
          "output_type": "stream",
          "name": "stdout",
          "text": [
            "first gamer direct bens decision action work save world engage experience neverbeforeseen location enemy character totally unique adventure defend favorite location good ben tv show episode familiar foe critic score score news flash tenyearold save planet ben protector earth ben protector earth two ben well \n"
          ]
        }
      ]
    },
    {
      "cell_type": "markdown",
      "metadata": {
        "id": "IlSeYg4sDMVQ"
      },
      "source": [
        "# [10 points] Part 2. Duplicates detection. LSH"
      ]
    },
    {
      "cell_type": "markdown",
      "metadata": {
        "id": "ZuMBHSiDDMVR"
      },
      "source": [
        "#### Libraries you can use\n",
        "\n",
        "1. LSH - https://github.com/ekzhu/datasketch\n",
        "1. LSH - https://github.com/mattilyra/LSH\n",
        "1. Any other library on your choise"
      ]
    },
    {
      "cell_type": "markdown",
      "metadata": {
        "id": "uff5aBpgDMVR"
      },
      "source": [
        "1. Detect duplicated text (duplicates do not imply a complete word-to-word match, but texts that may contain a paraphrase, rearrangement of words, sentences)\n",
        "1. Make a plot dependency of duplicates on shingle size (with fixed minhash length) \n",
        "1. Make a plot dependency of duplicates on minhash length (with fixed shingle size)"
      ]
    },
    {
      "cell_type": "code",
      "source": [
        "# function for creating set of shingles \n",
        "def make_shingles(text, k):\n",
        "    shingles = set()\n",
        "    if k > len(text):\n",
        "        shingles.add(text)\n",
        "    else:\n",
        "        for i in range(len(text))[:-k]:\n",
        "            shingles.add(text[i:i+k])\n",
        "    return list(shingles)\n",
        "\n",
        "def LSH(data, k_shingle = 5, num_perm = 128, threshold = 0.5):\n",
        "    \n",
        "    array1 = []\n",
        "    #Form Minhash\n",
        "    for i in range(len(data)):\n",
        "        m = MinHash(num_perm = num_perm)\n",
        "        shingles = make_shingles(data[i], k_shingle)\n",
        "        for d in shingles:\n",
        "            m.update(d.encode('utf8'))\n",
        "        array1.append(m)\n",
        "\n",
        "    lsh = MinHashLSH(threshold = threshold, num_perm = num_perm)\n",
        "    for i in range(len(array1)):\n",
        "        lsh.insert(i, array1[i])\n",
        "\n",
        "    duplicates_set = set()\n",
        "    for val in array1:\n",
        "        bucket = lsh.query(val)\n",
        "        \n",
        "        if len(bucket)>1:\n",
        "            first_val = bucket[0]\n",
        "            if first_val not in duplicates_set:\n",
        "                duplicates_set.add(first_val)\n",
        "    return list(duplicates_set)\n"
      ],
      "metadata": {
        "id": "h9v2cfRkhtyJ"
      },
      "execution_count": null,
      "outputs": []
    },
    {
      "cell_type": "code",
      "source": [
        "# plot dependency of duplicates on shingle size (with fixed minhash length)\n",
        "\n",
        "data_list = websites_sample[\"text\"].tolist()\n",
        "\n",
        "shingle_size = [5, 25, 100, 200, 300]\n",
        "duplicates_num = []\n",
        "\n",
        "for k in shingle_size:\n",
        "    duplicates_num.append(len(LSH(data_list, k_shingle = k, num_perm = 10, threshold=0.5)))\n",
        "\n",
        "plt.figure(figsize=(7, 5))\n",
        "plt.grid(True)\n",
        "plt.title('Dependency of duplicates on shingle size')\n",
        "plt.xlabel('Size of shingle')\n",
        "plt.ylabel('Found duplicates')\n",
        "sns.barplot(shingle_size, duplicates_num)\n",
        "plt.show()"
      ],
      "metadata": {
        "colab": {
          "base_uri": "https://localhost:8080/",
          "height": 405
        },
        "id": "yrFNZKJkSheW",
        "outputId": "06956da0-ba87-441e-bc2f-debd8b4ba9f7"
      },
      "execution_count": null,
      "outputs": [
        {
          "output_type": "stream",
          "name": "stderr",
          "text": [
            "/usr/local/lib/python3.7/dist-packages/seaborn/_decorators.py:43: FutureWarning: Pass the following variables as keyword args: x, y. From version 0.12, the only valid positional argument will be `data`, and passing other arguments without an explicit keyword will result in an error or misinterpretation.\n",
            "  FutureWarning\n"
          ]
        },
        {
          "output_type": "display_data",
          "data": {
            "text/plain": [
              "<Figure size 504x360 with 1 Axes>"
            ],
            "image/png": "[encoded data removed]"
          },
          "metadata": {
            "needs_background": "light"
          }
        }
      ]
    },
    {
      "cell_type": "code",
      "metadata": {
        "id": "HPonm9U3DMVS",
        "colab": {
          "base_uri": "https://localhost:8080/",
          "height": 405
        },
        "outputId": "176cd1f2-92bf-4b8a-d6eb-8def70293875"
      },
      "source": [
        "#duplicates = LSH(data_list, k_shingle = 100, num_perm = 5, threshold=0.8)\n",
        "\n",
        "permutations_num = [2, 6, 10, 14, 18]\n",
        "duplicates_num = []\n",
        "\n",
        "for num in permutations_num:\n",
        "    duplicates_num.append(len(LSH(data_list, k_shingle = 25, num_perm = num, threshold=0.5)))\n",
        "\n",
        "plt.figure(figsize=(7, 5))\n",
        "sns.barplot(permutations_num, duplicates_num)\n",
        "plt.grid(True)\n",
        "plt.title('Dependency of duplicates on minhash length')\n",
        "plt.xlabel('Number of permutations')\n",
        "plt.ylabel('Found duplicates')\n",
        "plt.show()"
      ],
      "execution_count": null,
      "outputs": [
        {
          "output_type": "stream",
          "name": "stderr",
          "text": [
            "/usr/local/lib/python3.7/dist-packages/seaborn/_decorators.py:43: FutureWarning: Pass the following variables as keyword args: x, y. From version 0.12, the only valid positional argument will be `data`, and passing other arguments without an explicit keyword will result in an error or misinterpretation.\n",
            "  FutureWarning\n"
          ]
        },
        {
          "output_type": "display_data",
          "data": {
            "text/plain": [
              "<Figure size 504x360 with 1 Axes>"
            ],
            "image/png": "[encoded data removed]"
          },
          "metadata": {
            "needs_background": "light"
          }
        }
      ]
    },
    {
      "cell_type": "markdown",
      "metadata": {
        "id": "njdTa1daDMVS"
      },
      "source": [
        "# [Optional 10 points] Part 3. Topic model"
      ]
    },
    {
      "cell_type": "markdown",
      "metadata": {
        "id": "4BwJNkn2DMVT"
      },
      "source": [
        "In this part you will learn how to do topic modeling with common tools and assess the resulting quality of the models. "
      ]
    },
    {
      "cell_type": "code",
      "source": [
        "stories = pd.read_csv('/content/drive/My Drive/data.csv')\n",
        "stories"
      ],
      "metadata": {
        "colab": {
          "base_uri": "https://localhost:8080/",
          "height": 424
        },
        "id": "GVycDE2w02ue",
        "outputId": "4c8e6d65-fb34-48db-d878-96c22bf857f6"
      },
      "execution_count": null,
      "outputs": [
        {
          "output_type": "execute_result",
          "data": {
            "text/plain": [
              "            id                                               text author\n",
              "0      id26305  This process, however, afforded me no means of...    EAP\n",
              "1      id17569  It never once occurred to me that the fumbling...    HPL\n",
              "2      id11008  In his left hand was a gold snuff box, from wh...    EAP\n",
              "3      id27763  How lovely is spring As we looked from Windsor...    MWS\n",
              "4      id12958  Finding nothing else, not even gold, the Super...    HPL\n",
              "...        ...                                                ...    ...\n",
              "19574  id17718  I could have fancied, while I looked at it, th...    EAP\n",
              "19575  id08973  The lids clenched themselves together as if in...    EAP\n",
              "19576  id05267  Mais il faut agir that is to say, a Frenchman ...    EAP\n",
              "19577  id17513  For an item of news like this, it strikes us i...    EAP\n",
              "19578  id00393  He laid a gnarled claw on my shoulder, and it ...    HPL\n",
              "\n",
              "[19579 rows x 3 columns]"
            ],
            "text/html": [
              "\n",
              "  <div id=\"df-c1b33e98-211a-4f26-adf1-ac2f19e1a83d\">\n",
              "    <div class=\"colab-df-container\">\n",
              "      <div>\n",
              "<style scoped>\n",
              "    .dataframe tbody tr th:only-of-type {\n",
              "        vertical-align: middle;\n",
              "    }\n",
              "\n",
              "    .dataframe tbody tr th {\n",
              "        vertical-align: top;\n",
              "    }\n",
              "\n",
              "    .dataframe thead th {\n",
              "        text-align: right;\n",
              "    }\n",
              "</style>\n",
              "<table border=\"1\" class=\"dataframe\">\n",
              "  <thead>\n",
              "    <tr style=\"text-align: right;\">\n",
              "      <th></th>\n",
              "      <th>id</th>\n",
              "      <th>text</th>\n",
              "      <th>author</th>\n",
              "    </tr>\n",
              "  </thead>\n",
              "  <tbody>\n",
              "    <tr>\n",
              "      <th>0</th>\n",
              "      <td>id26305</td>\n",
              "      <td>This process, however, afforded me no means of...</td>\n",
              "      <td>EAP</td>\n",
              "    </tr>\n",
              "    <tr>\n",
              "      <th>1</th>\n",
              "      <td>id17569</td>\n",
              "      <td>It never once occurred to me that the fumbling...</td>\n",
              "      <td>HPL</td>\n",
              "    </tr>\n",
              "    <tr>\n",
              "      <th>2</th>\n",
              "      <td>id11008</td>\n",
              "      <td>In his left hand was a gold snuff box, from wh...</td>\n",
              "      <td>EAP</td>\n",
              "    </tr>\n",
              "    <tr>\n",
              "      <th>3</th>\n",
              "      <td>id27763</td>\n",
              "      <td>How lovely is spring As we looked from Windsor...</td>\n",
              "      <td>MWS</td>\n",
              "    </tr>\n",
              "    <tr>\n",
              "      <th>4</th>\n",
              "      <td>id12958</td>\n",
              "      <td>Finding nothing else, not even gold, the Super...</td>\n",
              "      <td>HPL</td>\n",
              "    </tr>\n",
              "    <tr>\n",
              "      <th>...</th>\n",
              "      <td>...</td>\n",
              "      <td>...</td>\n",
              "      <td>...</td>\n",
              "    </tr>\n",
              "    <tr>\n",
              "      <th>19574</th>\n",
              "      <td>id17718</td>\n",
              "      <td>I could have fancied, while I looked at it, th...</td>\n",
              "      <td>EAP</td>\n",
              "    </tr>\n",
              "    <tr>\n",
              "      <th>19575</th>\n",
              "      <td>id08973</td>\n",
              "      <td>The lids clenched themselves together as if in...</td>\n",
              "      <td>EAP</td>\n",
              "    </tr>\n",
              "    <tr>\n",
              "      <th>19576</th>\n",
              "      <td>id05267</td>\n",
              "      <td>Mais il faut agir that is to say, a Frenchman ...</td>\n",
              "      <td>EAP</td>\n",
              "    </tr>\n",
              "    <tr>\n",
              "      <th>19577</th>\n",
              "      <td>id17513</td>\n",
              "      <td>For an item of news like this, it strikes us i...</td>\n",
              "      <td>EAP</td>\n",
              "    </tr>\n",
              "    <tr>\n",
              "      <th>19578</th>\n",
              "      <td>id00393</td>\n",
              "      <td>He laid a gnarled claw on my shoulder, and it ...</td>\n",
              "      <td>HPL</td>\n",
              "    </tr>\n",
              "  </tbody>\n",
              "</table>\n",
              "<p>19579 rows × 3 columns</p>\n",
              "</div>\n",
              "      <button class=\"colab-df-convert\" onclick=\"convertToInteractive('df-c1b33e98-211a-4f26-adf1-ac2f19e1a83d')\"\n",
              "              title=\"Convert this dataframe to an interactive table.\"\n",
              "              style=\"display:none;\">\n",
              "        \n",
              "  <svg xmlns=\"http://www.w3.org/2000/svg\" height=\"24px\"viewBox=\"0 0 24 24\"\n",
              "       width=\"24px\">\n",
              "    <path d=\"M0 0h24v24H0V0z\" fill=\"none\"/>\n",
              "    <path d=\"M18.56 5.44l.94 2.06.94-2.06 2.06-.94-2.06-.94-.94-2.06-.94 2.06-2.06.94zm-11 1L8.5 8.5l.94-2.06 2.06-.94-2.06-.94L8.5 2.5l-.94 2.06-2.06.94zm10 10l.94 2.06.94-2.06 2.06-.94-2.06-.94-.94-2.06-.94 2.06-2.06.94z\"/><path d=\"M17.41 7.96l-1.37-1.37c-.4-.4-.92-.59-1.43-.59-.52 0-1.04.2-1.43.59L10.3 9.45l-7.72 7.72c-.78.78-.78 2.05 0 2.83L4 21.41c.39.39.9.59 1.41.59.51 0 1.02-.2 1.41-.59l7.78-7.78 2.81-2.81c.8-.78.8-2.07 0-2.86zM5.41 20L4 18.59l7.72-7.72 1.47 1.35L5.41 20z\"/>\n",
              "  </svg>\n",
              "      </button>\n",
              "      \n",
              "  <style>\n",
              "    .colab-df-container {\n",
              "      display:flex;\n",
              "      flex-wrap:wrap;\n",
              "      gap: 12px;\n",
              "    }\n",
              "\n",
              "    .colab-df-convert {\n",
              "      background-color: #E8F0FE;\n",
              "      border: none;\n",
              "      border-radius: 50%;\n",
              "      cursor: pointer;\n",
              "      display: none;\n",
              "      fill: #1967D2;\n",
              "      height: 32px;\n",
              "      padding: 0 0 0 0;\n",
              "      width: 32px;\n",
              "    }\n",
              "\n",
              "    .colab-df-convert:hover {\n",
              "      background-color: #E2EBFA;\n",
              "      box-shadow: 0px 1px 2px rgba(60, 64, 67, 0.3), 0px 1px 3px 1px rgba(60, 64, 67, 0.15);\n",
              "      fill: #174EA6;\n",
              "    }\n",
              "\n",
              "    [theme=dark] .colab-df-convert {\n",
              "      background-color: #3B4455;\n",
              "      fill: #D2E3FC;\n",
              "    }\n",
              "\n",
              "    [theme=dark] .colab-df-convert:hover {\n",
              "      background-color: #434B5C;\n",
              "      box-shadow: 0px 1px 3px 1px rgba(0, 0, 0, 0.15);\n",
              "      filter: drop-shadow(0px 1px 2px rgba(0, 0, 0, 0.3));\n",
              "      fill: #FFFFFF;\n",
              "    }\n",
              "  </style>\n",
              "\n",
              "      <script>\n",
              "        const buttonEl =\n",
              "          document.querySelector('#df-c1b33e98-211a-4f26-adf1-ac2f19e1a83d button.colab-df-convert');\n",
              "        buttonEl.style.display =\n",
              "          google.colab.kernel.accessAllowed ? 'block' : 'none';\n",
              "\n",
              "        async function convertToInteractive(key) {\n",
              "          const element = document.querySelector('#df-c1b33e98-211a-4f26-adf1-ac2f19e1a83d');\n",
              "          const dataTable =\n",
              "            await google.colab.kernel.invokeFunction('convertToInteractive',\n",
              "                                                     [key], {});\n",
              "          if (!dataTable) return;\n",
              "\n",
              "          const docLinkHtml = 'Like what you see? Visit the ' +\n",
              "            '<a target=\"_blank\" href=https://colab.research.google.com/notebooks/data_table.ipynb>data table notebook</a>'\n",
              "            + ' to learn more about interactive tables.';\n",
              "          element.innerHTML = '';\n",
              "          dataTable['output_type'] = 'display_data';\n",
              "          await google.colab.output.renderOutput(dataTable, element);\n",
              "          const docLink = document.createElement('div');\n",
              "          docLink.innerHTML = docLinkHtml;\n",
              "          element.appendChild(docLink);\n",
              "        }\n",
              "      </script>\n",
              "    </div>\n",
              "  </div>\n",
              "  "
            ]
          },
          "metadata": {},
          "execution_count": 4
        }
      ]
    },
    {
      "cell_type": "markdown",
      "metadata": {
        "id": "WkNFzxqPDMVU"
      },
      "source": [
        "The provided data contain chunked stories by Edgar Allan Poe (EAP), Mary Shelley (MWS), and HP Lovecraft (HPL).\n",
        "\n",
        "The dataset can be downloaded here: `https://drive.google.com/file/d/14tAjAzHr6UmFVFV7ABTyNHBh-dWHAaLH/view?usp=sharing`"
      ]
    },
    {
      "cell_type": "markdown",
      "metadata": {
        "id": "5BNIa1miDMVU"
      },
      "source": [
        "#### Preprocess dataset with the functions from the Part 1"
      ]
    },
    {
      "cell_type": "code",
      "metadata": {
        "id": "9B8PZNRyDMVV",
        "colab": {
          "base_uri": "https://localhost:8080/"
        },
        "outputId": "0908e7e9-5079-4233-cae0-4acc0d4e3ed2"
      },
      "source": [
        "signs = string.punctuation\n",
        "for i in range(10):\n",
        "    signs += str(i)\n",
        "\n",
        "sp = spacy.load('en_core_web_sm')\n",
        "\n",
        "stop_words = set(stopwords.words('english'))\n",
        "stop_words.add('-PRON-')\n",
        "\n",
        "stop_words.add('say')\n",
        "stop_words.add('know')\n",
        "stop_words.add('man')\n",
        "stop_words.add('come')\n",
        "stop_words.add('thing')\n",
        "stop_words.add('make')\n",
        "stop_words.add('time')\n",
        "stop_words.add('day')\n",
        "stop_words.add('great')\n",
        "\n",
        "\n",
        "pbar = ProgressBar()\n",
        "\n",
        "for i in pbar(stories['text'].index):\n",
        "\n",
        "    text = stories[\"text\"].loc[ i ]\n",
        "\n",
        "    # split into words by white space\n",
        "    words = text.split()\n",
        "\n",
        "    # normalizing case\n",
        "    words = [word.lower() for word in words]\n",
        "\n",
        "    # removing punctuation and digits\n",
        "    table = str.maketrans('', '', signs)\n",
        "    words = [w.translate(table) for w in words]\n",
        "    words = [word for word in words if len(word) > 1]\n",
        "\n",
        "    # lemmatization\n",
        "    temp_text = ''\n",
        "    for w in words:\n",
        "        temp_text += str(w) + str(' ')\n",
        "    words = [token.lemma_ for token in sp(temp_text)]\n",
        "    \n",
        "    # removing stop words\n",
        "    words = [w for w in words if not w in stop_words]\n",
        "\n",
        "    temp_text = ''\n",
        "    for w in words:\n",
        "        temp_text += str(w) + str(' ')\n",
        "    stories[\"text\"].loc[ i ] = temp_text"
      ],
      "execution_count": null,
      "outputs": [
        {
          "output_type": "stream",
          "name": "stderr",
          "text": [
            "/usr/local/lib/python3.7/dist-packages/catalogue.py:138: DeprecationWarning:\n",
            "\n",
            "SelectableGroups dict interface is deprecated. Use select.\n",
            "\n",
            "100% (19579 of 19579) |##################| Elapsed Time: 0:04:55 Time:  0:04:55\n"
          ]
        }
      ]
    },
    {
      "cell_type": "markdown",
      "metadata": {
        "id": "qKU2D29CDMVV"
      },
      "source": [
        "#### Quality estimation"
      ]
    },
    {
      "cell_type": "markdown",
      "metadata": {
        "id": "l6xfd3vpDMVW"
      },
      "source": [
        "Implement the following three quality fuctions: `coherence` (or `tf-idf coherence`), `normalized PMI`, `based on the distributed word representation`(you can use pretrained w2v vectors or some other model). You are free to use any libraries (for instance gensim) and components."
      ]
    },
    {
      "cell_type": "code",
      "metadata": {
        "id": "AEtv-gWcDMVW"
      },
      "source": [
        "def coherence(corpus, topics):\n",
        "    cm = CoherenceModel(topics=topics, \n",
        "                    texts=corpus,\n",
        "                    coherence='c_v',  \n",
        "                    dictionary=Dictionary(corpus),\n",
        "                    topn=3)\n",
        "    print(cm.get_coherence())\n",
        "    return cm.get_coherence_per_topic()\n",
        "\n",
        "\n",
        "def n_pmi(corpus, topics):\n",
        "    cm = CoherenceModel(topics=topics, \n",
        "                    texts=corpus,\n",
        "                    coherence='c_npmi',  \n",
        "                    dictionary=Dictionary(corpus),\n",
        "                    topn=3)\n",
        "    print(cm.get_coherence())\n",
        "    return cm.get_coherence_per_topic()\n",
        "\n",
        "\n",
        "def bdwr(topics):\n",
        "    glove_vectors = gensim.downloader.load('glove-twitter-25')\n",
        "    k = 0\n",
        "    sum_dist = 0\n",
        "    topic_metr = []\n",
        "    for topic in topics:\n",
        "        for pair in combinations(topic, 2):\n",
        "            word_1, word_2 = pair\n",
        "            if word_1 in glove_vectors.wv.vocab and word_2 in glove_vectors.wv.vocab:\n",
        "                dist = glove_vectors.distance(word_1, word_2)\n",
        "                sum_dist += dist\n",
        "                k += 1\n",
        "        topic_metr.append(sum_dist/k)\n",
        "        sum_dist = 0\n",
        "        k = 0\n",
        "    return topic_metr"
      ],
      "execution_count": null,
      "outputs": []
    },
    {
      "cell_type": "markdown",
      "metadata": {
        "id": "Kp1jTJmPDMVX"
      },
      "source": [
        "### Topic modeling"
      ]
    },
    {
      "cell_type": "markdown",
      "metadata": {
        "id": "rNepVz1wDMVY"
      },
      "source": [
        "Plot the histogram of resulting tokens counts in the processed datasets."
      ]
    },
    {
      "cell_type": "code",
      "metadata": {
        "id": "L_7JVEfbDMVZ",
        "colab": {
          "base_uri": "https://localhost:8080/",
          "height": 1000
        },
        "outputId": "2486a5d5-aada-4399-cac3-a5b5b2e04180"
      },
      "source": [
        "# estimating words appearance frequency\n",
        "frequency = {}\n",
        "for i in stories['text'].index:\n",
        "    text = stories[\"text\"].loc[ i ]\n",
        "    words = text.split()\n",
        "    for word in words:\n",
        "        if word in frequency:\n",
        "            frequency[word] += 1\n",
        "        else:\n",
        "            frequency[word] = 1\n",
        "\n",
        "# Top 100 most used words\n",
        "frequency = dict(sorted(frequency.items(), key=lambda item: item[1], reverse = True))\n",
        "val = list(frequency.values())\n",
        "words_100 = list(frequency.keys())\n",
        "plt.figure(figsize=(16, 16))\n",
        "sns.barplot(val[0:100], words_100[0:100])\n",
        "plt.grid(True)\n",
        "plt.show()"
      ],
      "execution_count": null,
      "outputs": [
        {
          "output_type": "stream",
          "name": "stderr",
          "text": [
            "/usr/local/lib/python3.7/dist-packages/seaborn/_decorators.py:43: FutureWarning:\n",
            "\n",
            "Pass the following variables as keyword args: x, y. From version 0.12, the only valid positional argument will be `data`, and passing other arguments without an explicit keyword will result in an error or misinterpretation.\n",
            "\n"
          ]
        },
        {
          "output_type": "display_data",
          "data": {
            "text/plain": [
              "<Figure size 1152x1152 with 1 Axes>"
            ],
            "image/png": "[encoded data removed]"
          },
          "metadata": {
            "needs_background": "light"
          }
        }
      ]
    },
    {
      "cell_type": "markdown",
      "metadata": {
        "id": "4N86AaGNDMVa"
      },
      "source": [
        "#### NMF"
      ]
    },
    {
      "cell_type": "markdown",
      "metadata": {
        "id": "kPelcAFQDMVa"
      },
      "source": [
        "Implement topic modeling with NMF (you can use `sklearn.decomposition.NMF`) and print out resulting topics. Try to change hyperparameters to better fit the dataset."
      ]
    },
    {
      "cell_type": "code",
      "source": [
        "def plot_top_words(model, feature_names, n_top_words, title):\n",
        "    fig, axes = plt.subplots(2, 5, figsize=(15, 7), sharex=True)\n",
        "    axes = axes.flatten()\n",
        "    topics = []\n",
        "    for topic_idx, topic in enumerate(model.components_):\n",
        "        topic_cur = []\n",
        "        top_features_ind = topic.argsort()[: -n_top_words - 1 : -1]\n",
        "        top_features = [feature_names[i] for i in top_features_ind]\n",
        "        weights = topic[top_features_ind]\n",
        "\n",
        "        for word in top_features:\n",
        "            topic_cur.append(word)\n",
        "        topics.append(topic_cur)\n",
        "\n",
        "        ax = axes[topic_idx]\n",
        "        ax.barh(top_features, weights)\n",
        "        ax.set_title(f\"Topic {topic_idx +1}\")\n",
        "        ax.invert_yaxis()\n",
        "        ax.tick_params(axis=\"both\", which=\"major\")\n",
        "        for i in \"top right left\".split():\n",
        "            ax.spines[i].set_visible(False)\n",
        "        fig.suptitle(title)\n",
        "\n",
        "    plt.show()\n",
        "    return(topics)"
      ],
      "metadata": {
        "id": "mqjqTkTocKdz"
      },
      "execution_count": null,
      "outputs": []
    },
    {
      "cell_type": "code",
      "metadata": {
        "id": "DCPzCMMMDMVa",
        "colab": {
          "base_uri": "https://localhost:8080/",
          "height": 725
        },
        "outputId": "042ab001-1666-41a6-bd00-9c5c9ab83338"
      },
      "source": [
        "tfidf_vectorizer = TfidfVectorizer(max_df=0.5, min_df=1, max_features=None, stop_words=\"english\")\n",
        "\n",
        "tfidf = tfidf_vectorizer.fit_transform(stories['text'])\n",
        "nmf = NMF(n_components=10, random_state=10, alpha=0.1, l1_ratio=0.9).fit(tfidf)\n",
        "tfidf_feature_names = tfidf_vectorizer.get_feature_names_out()\n",
        "n_top_words = 10\n",
        "topics_NMF = plot_top_words(\n",
        "    nmf, tfidf_feature_names, n_top_words, \"Topics in NMF model (Frobenius norm)\"\n",
        ")"
      ],
      "execution_count": null,
      "outputs": [
        {
          "output_type": "stream",
          "name": "stderr",
          "text": [
            "/usr/local/lib/python3.7/dist-packages/sklearn/decomposition/_nmf.py:1425: FutureWarning:\n",
            "\n",
            "`alpha` was deprecated in version 1.0 and will be removed in 1.2. Use `alpha_W` and `alpha_H` instead\n",
            "\n",
            "/usr/local/lib/python3.7/dist-packages/sklearn/decomposition/_nmf.py:294: FutureWarning:\n",
            "\n",
            "The 'init' value, when 'init=None' and n_components is less than n_samples and n_features, will be changed from 'nndsvd' to 'nndsvda' in 1.1 (renaming of 0.26).\n",
            "\n",
            "/usr/local/lib/python3.7/dist-packages/scipy/linalg/decomp_qr.py:20: DeprecationWarning:\n",
            "\n",
            "`np.int` is a deprecated alias for the builtin `int`. To silence this warning, use `int` by itself. Doing this will not modify any behavior and is safe. When replacing `np.int`, you may wish to use e.g. `np.int64` or `np.int32` to specify the precision. If you wish to review your current use, check the release note link for additional information.\n",
            "Deprecated in NumPy 1.20; for more details and guidance: https://numpy.org/devdocs/release/1.20.0-notes.html#deprecations\n",
            "\n"
          ]
        },
        {
          "output_type": "display_data",
          "data": {
            "text/plain": [
              "<Figure size 1080x504 with 10 Axes>"
            ],
            "image/png": "[encoded data removed]"
          },
          "metadata": {
            "needs_background": "light"
          }
        }
      ]
    },
    {
      "cell_type": "markdown",
      "metadata": {
        "id": "zuaKAGIWDMVb"
      },
      "source": [
        "#### LDA"
      ]
    },
    {
      "cell_type": "markdown",
      "metadata": {
        "id": "PAK_MfQxDMVb"
      },
      "source": [
        "Implement topic modeling with LDA (you can use gensim implementation) and print out resulting topics. Try to change hyperparameters to better fit the dataset."
      ]
    },
    {
      "cell_type": "code",
      "metadata": {
        "id": "fdzopuCJDMVb",
        "colab": {
          "base_uri": "https://localhost:8080/",
          "height": 479
        },
        "outputId": "034de497-30fd-4705-9b1c-a554f0382d38"
      },
      "source": [
        "tf_vectorizer = CountVectorizer(max_df=0.5, min_df=1, max_features=None, stop_words=\"english\")\n",
        "tf = tf_vectorizer.fit_transform(stories['text'])\n",
        "lda = LatentDirichletAllocation(\n",
        "    n_components=10,\n",
        "    max_iter=15,\n",
        "    learning_method=\"online\",\n",
        "    learning_offset=15.0,\n",
        "    random_state=20,\n",
        ")\n",
        "lda.fit(tf)\n",
        "tf_feature_names = tf_vectorizer.get_feature_names_out()\n",
        "topics_LDA = plot_top_words(lda, tf_feature_names, n_top_words, \"Topics in LDA model\")"
      ],
      "execution_count": null,
      "outputs": [
        {
          "output_type": "display_data",
          "data": {
            "text/plain": [
              "<Figure size 1080x504 with 10 Axes>"
            ],
            "image/png": "[encoded data removed]"
          },
          "metadata": {
            "needs_background": "light"
          }
        }
      ]
    },
    {
      "cell_type": "markdown",
      "metadata": {
        "id": "vSF6fq0NDMVc"
      },
      "source": [
        "### Additive regularization of topic models "
      ]
    },
    {
      "cell_type": "markdown",
      "metadata": {
        "id": "tVcA4itQDMVc"
      },
      "source": [
        "Implement topic modeling with ARTM. You may use bigartm library (simple installation for linux: pip install bigartm) or TopicNet framework (`https://github.com/machine-intelligence-laboratory/TopicNet`)"
      ]
    },
    {
      "cell_type": "markdown",
      "metadata": {
        "id": "03xhr0PmDMVc"
      },
      "source": [
        "Create artm topic model fit it to the data. Try to change hyperparameters (number of specific and background topics) to better fit the dataset. Play with smoothing and sparsing coefficients (use grid), try to add decorrelator. Print out resulting topics."
      ]
    },
    {
      "cell_type": "code",
      "source": [
        "# Vowpal Wabbit\n",
        "def vowpalize_sequence(sequence):\n",
        "    frequency = {}\n",
        "    for word in sequence:\n",
        "        if word in frequency:\n",
        "            frequency[word] += 1\n",
        "        else:\n",
        "            frequency[word] = 1\n",
        "\n",
        "    vals = list(frequency.values())\n",
        "    words = list(frequency.keys())\n",
        "    vw_string = ''\n",
        "    for i in range(len(vals)):\n",
        "        vw_string += words[i] + \":\" + str(vals[i]) + ' '\n",
        "    return vw_string"
      ],
      "metadata": {
        "id": "kXH3ippmJVXS"
      },
      "execution_count": null,
      "outputs": []
    },
    {
      "cell_type": "code",
      "source": [
        "bigram_measures = BigramAssocMeasures()\n",
        "\n",
        "documents_split = []\n",
        "for doc in stories['text']:\n",
        "    documents_split.append(doc.split())\n",
        "\n",
        "finder = BigramCollocationFinder.from_documents(documents_split)\n",
        "\n",
        "finder.apply_freq_filter(5)\n",
        "set_dict = set(finder.nbest(bigram_measures.pmi,32100)[100:])\n",
        "documents = stories['text']\n",
        "bigrams = []\n",
        "\n",
        "for doc in documents:\n",
        "    words = doc.split()\n",
        "    entry = []\n",
        "    for word_first, word_second in zip(words[:-1],words[1:]):\n",
        "        entry.append('_'.join([word_first, word_second]))\n",
        "    bigrams.append(entry)\n",
        "    \n",
        "\n",
        "stories['bigram'] = bigrams\n",
        "\n",
        "vw_text = []\n",
        "\n",
        "for i in stories.index:\n",
        "    vw_string = ''    \n",
        "    doc_id = stories[\"id\"].loc[i]\n",
        "    lemmatized = '@lemmatized ' + vowpalize_sequence(documents_split[i])\n",
        "    bigram = '@bigram ' + vowpalize_sequence(bigrams[i])\n",
        "    vw_string = ' |'.join([doc_id, lemmatized, bigram])\n",
        "    vw_text.append(vw_string)\n",
        "\n",
        "stories['vw_text'] = vw_text\n",
        "stories[['id', 'text', 'vw_text']].to_csv('/content/drive/My Drive/data_vw.csv')\n",
        "stories"
      ],
      "metadata": {
        "colab": {
          "base_uri": "https://localhost:8080/",
          "height": 641
        },
        "id": "Of_hICb-6r-Z",
        "outputId": "5adb36d5-5d3e-43b8-da83-c59954b72335"
      },
      "execution_count": null,
      "outputs": [
        {
          "output_type": "execute_result",
          "data": {
            "text/plain": [
              "            id                                               text author  \\\n",
              "0      id26305  process however afford means ascertain dimensi...    EAP   \n",
              "1      id17569             never occur fumbling may mere mistake     HPL   \n",
              "2      id11008  left hand gold snuff box caper hill cut manner...    EAP   \n",
              "3      id27763  lovely spring look windsor terrace sixteen fer...    MWS   \n",
              "4      id12958  find nothing else even gold superintendent aba...    HPL   \n",
              "...        ...                                                ...    ...   \n",
              "19574  id17718  could fancy look eminent landscape painter bui...    EAP   \n",
              "19575  id08973                         lid clench together spasm     EAP   \n",
              "19576  id05267  mais il faut agir frenchman never faint outright     EAP   \n",
              "19577  id17513              item news like strike coolly receive     EAP   \n",
              "19578  id00393  lay gnarled claw shoulder seem shaking altoget...    HPL   \n",
              "\n",
              "                                                  bigram  \\\n",
              "0      [process_however, however_afford, afford_means...   \n",
              "1      [never_occur, occur_fumbling, fumbling_may, ma...   \n",
              "2      [left_hand, hand_gold, gold_snuff, snuff_box, ...   \n",
              "3      [lovely_spring, spring_look, look_windsor, win...   \n",
              "4      [find_nothing, nothing_else, else_even, even_g...   \n",
              "...                                                  ...   \n",
              "19574  [could_fancy, fancy_look, look_eminent, eminen...   \n",
              "19575      [lid_clench, clench_together, together_spasm]   \n",
              "19576  [mais_il, il_faut, faut_agir, agir_frenchman, ...   \n",
              "19577  [item_news, news_like, like_strike, strike_coo...   \n",
              "19578  [lay_gnarled, gnarled_claw, claw_shoulder, sho...   \n",
              "\n",
              "                                                 vw_text  \n",
              "0      id26305 |@lemmatized process:1 however:1 affor...  \n",
              "1      id17569 |@lemmatized never:1 occur:1 fumbling:...  \n",
              "2      id11008 |@lemmatized left:1 hand:1 gold:1 snuf...  \n",
              "3      id27763 |@lemmatized lovely:1 spring:1 look:2 ...  \n",
              "4      id12958 |@lemmatized find:1 nothing:1 else:1 e...  \n",
              "...                                                  ...  \n",
              "19574  id17718 |@lemmatized could:1 fancy:1 look:1 em...  \n",
              "19575  id08973 |@lemmatized lid:1 clench:1 together:1...  \n",
              "19576  id05267 |@lemmatized mais:1 il:1 faut:1 agir:1...  \n",
              "19577  id17513 |@lemmatized item:1 news:1 like:1 stri...  \n",
              "19578  id00393 |@lemmatized lay:1 gnarled:1 claw:1 sh...  \n",
              "\n",
              "[19579 rows x 5 columns]"
            ],
            "text/html": [
              "\n",
              "  <div id=\"df-72426313-78c0-4844-9ea5-646a196982ed\">\n",
              "    <div class=\"colab-df-container\">\n",
              "      <div>\n",
              "<style scoped>\n",
              "    .dataframe tbody tr th:only-of-type {\n",
              "        vertical-align: middle;\n",
              "    }\n",
              "\n",
              "    .dataframe tbody tr th {\n",
              "        vertical-align: top;\n",
              "    }\n",
              "\n",
              "    .dataframe thead th {\n",
              "        text-align: right;\n",
              "    }\n",
              "</style>\n",
              "<table border=\"1\" class=\"dataframe\">\n",
              "  <thead>\n",
              "    <tr style=\"text-align: right;\">\n",
              "      <th></th>\n",
              "      <th>id</th>\n",
              "      <th>text</th>\n",
              "      <th>author</th>\n",
              "      <th>bigram</th>\n",
              "      <th>vw_text</th>\n",
              "    </tr>\n",
              "  </thead>\n",
              "  <tbody>\n",
              "    <tr>\n",
              "      <th>0</th>\n",
              "      <td>id26305</td>\n",
              "      <td>process however afford means ascertain dimensi...</td>\n",
              "      <td>EAP</td>\n",
              "      <td>[process_however, however_afford, afford_means...</td>\n",
              "      <td>id26305 |@lemmatized process:1 however:1 affor...</td>\n",
              "    </tr>\n",
              "    <tr>\n",
              "      <th>1</th>\n",
              "      <td>id17569</td>\n",
              "      <td>never occur fumbling may mere mistake</td>\n",
              "      <td>HPL</td>\n",
              "      <td>[never_occur, occur_fumbling, fumbling_may, ma...</td>\n",
              "      <td>id17569 |@lemmatized never:1 occur:1 fumbling:...</td>\n",
              "    </tr>\n",
              "    <tr>\n",
              "      <th>2</th>\n",
              "      <td>id11008</td>\n",
              "      <td>left hand gold snuff box caper hill cut manner...</td>\n",
              "      <td>EAP</td>\n",
              "      <td>[left_hand, hand_gold, gold_snuff, snuff_box, ...</td>\n",
              "      <td>id11008 |@lemmatized left:1 hand:1 gold:1 snuf...</td>\n",
              "    </tr>\n",
              "    <tr>\n",
              "      <th>3</th>\n",
              "      <td>id27763</td>\n",
              "      <td>lovely spring look windsor terrace sixteen fer...</td>\n",
              "      <td>MWS</td>\n",
              "      <td>[lovely_spring, spring_look, look_windsor, win...</td>\n",
              "      <td>id27763 |@lemmatized lovely:1 spring:1 look:2 ...</td>\n",
              "    </tr>\n",
              "    <tr>\n",
              "      <th>4</th>\n",
              "      <td>id12958</td>\n",
              "      <td>find nothing else even gold superintendent aba...</td>\n",
              "      <td>HPL</td>\n",
              "      <td>[find_nothing, nothing_else, else_even, even_g...</td>\n",
              "      <td>id12958 |@lemmatized find:1 nothing:1 else:1 e...</td>\n",
              "    </tr>\n",
              "    <tr>\n",
              "      <th>...</th>\n",
              "      <td>...</td>\n",
              "      <td>...</td>\n",
              "      <td>...</td>\n",
              "      <td>...</td>\n",
              "      <td>...</td>\n",
              "    </tr>\n",
              "    <tr>\n",
              "      <th>19574</th>\n",
              "      <td>id17718</td>\n",
              "      <td>could fancy look eminent landscape painter bui...</td>\n",
              "      <td>EAP</td>\n",
              "      <td>[could_fancy, fancy_look, look_eminent, eminen...</td>\n",
              "      <td>id17718 |@lemmatized could:1 fancy:1 look:1 em...</td>\n",
              "    </tr>\n",
              "    <tr>\n",
              "      <th>19575</th>\n",
              "      <td>id08973</td>\n",
              "      <td>lid clench together spasm</td>\n",
              "      <td>EAP</td>\n",
              "      <td>[lid_clench, clench_together, together_spasm]</td>\n",
              "      <td>id08973 |@lemmatized lid:1 clench:1 together:1...</td>\n",
              "    </tr>\n",
              "    <tr>\n",
              "      <th>19576</th>\n",
              "      <td>id05267</td>\n",
              "      <td>mais il faut agir frenchman never faint outright</td>\n",
              "      <td>EAP</td>\n",
              "      <td>[mais_il, il_faut, faut_agir, agir_frenchman, ...</td>\n",
              "      <td>id05267 |@lemmatized mais:1 il:1 faut:1 agir:1...</td>\n",
              "    </tr>\n",
              "    <tr>\n",
              "      <th>19577</th>\n",
              "      <td>id17513</td>\n",
              "      <td>item news like strike coolly receive</td>\n",
              "      <td>EAP</td>\n",
              "      <td>[item_news, news_like, like_strike, strike_coo...</td>\n",
              "      <td>id17513 |@lemmatized item:1 news:1 like:1 stri...</td>\n",
              "    </tr>\n",
              "    <tr>\n",
              "      <th>19578</th>\n",
              "      <td>id00393</td>\n",
              "      <td>lay gnarled claw shoulder seem shaking altoget...</td>\n",
              "      <td>HPL</td>\n",
              "      <td>[lay_gnarled, gnarled_claw, claw_shoulder, sho...</td>\n",
              "      <td>id00393 |@lemmatized lay:1 gnarled:1 claw:1 sh...</td>\n",
              "    </tr>\n",
              "  </tbody>\n",
              "</table>\n",
              "<p>19579 rows × 5 columns</p>\n",
              "</div>\n",
              "      <button class=\"colab-df-convert\" onclick=\"convertToInteractive('df-72426313-78c0-4844-9ea5-646a196982ed')\"\n",
              "              title=\"Convert this dataframe to an interactive table.\"\n",
              "              style=\"display:none;\">\n",
              "        \n",
              "  <svg xmlns=\"http://www.w3.org/2000/svg\" height=\"24px\"viewBox=\"0 0 24 24\"\n",
              "       width=\"24px\">\n",
              "    <path d=\"M0 0h24v24H0V0z\" fill=\"none\"/>\n",
              "    <path d=\"M18.56 5.44l.94 2.06.94-2.06 2.06-.94-2.06-.94-.94-2.06-.94 2.06-2.06.94zm-11 1L8.5 8.5l.94-2.06 2.06-.94-2.06-.94L8.5 2.5l-.94 2.06-2.06.94zm10 10l.94 2.06.94-2.06 2.06-.94-2.06-.94-.94-2.06-.94 2.06-2.06.94z\"/><path d=\"M17.41 7.96l-1.37-1.37c-.4-.4-.92-.59-1.43-.59-.52 0-1.04.2-1.43.59L10.3 9.45l-7.72 7.72c-.78.78-.78 2.05 0 2.83L4 21.41c.39.39.9.59 1.41.59.51 0 1.02-.2 1.41-.59l7.78-7.78 2.81-2.81c.8-.78.8-2.07 0-2.86zM5.41 20L4 18.59l7.72-7.72 1.47 1.35L5.41 20z\"/>\n",
              "  </svg>\n",
              "      </button>\n",
              "      \n",
              "  <style>\n",
              "    .colab-df-container {\n",
              "      display:flex;\n",
              "      flex-wrap:wrap;\n",
              "      gap: 12px;\n",
              "    }\n",
              "\n",
              "    .colab-df-convert {\n",
              "      background-color: #E8F0FE;\n",
              "      border: none;\n",
              "      border-radius: 50%;\n",
              "      cursor: pointer;\n",
              "      display: none;\n",
              "      fill: #1967D2;\n",
              "      height: 32px;\n",
              "      padding: 0 0 0 0;\n",
              "      width: 32px;\n",
              "    }\n",
              "\n",
              "    .colab-df-convert:hover {\n",
              "      background-color: #E2EBFA;\n",
              "      box-shadow: 0px 1px 2px rgba(60, 64, 67, 0.3), 0px 1px 3px 1px rgba(60, 64, 67, 0.15);\n",
              "      fill: #174EA6;\n",
              "    }\n",
              "\n",
              "    [theme=dark] .colab-df-convert {\n",
              "      background-color: #3B4455;\n",
              "      fill: #D2E3FC;\n",
              "    }\n",
              "\n",
              "    [theme=dark] .colab-df-convert:hover {\n",
              "      background-color: #434B5C;\n",
              "      box-shadow: 0px 1px 3px 1px rgba(0, 0, 0, 0.15);\n",
              "      filter: drop-shadow(0px 1px 2px rgba(0, 0, 0, 0.3));\n",
              "      fill: #FFFFFF;\n",
              "    }\n",
              "  </style>\n",
              "\n",
              "      <script>\n",
              "        const buttonEl =\n",
              "          document.querySelector('#df-72426313-78c0-4844-9ea5-646a196982ed button.colab-df-convert');\n",
              "        buttonEl.style.display =\n",
              "          google.colab.kernel.accessAllowed ? 'block' : 'none';\n",
              "\n",
              "        async function convertToInteractive(key) {\n",
              "          const element = document.querySelector('#df-72426313-78c0-4844-9ea5-646a196982ed');\n",
              "          const dataTable =\n",
              "            await google.colab.kernel.invokeFunction('convertToInteractive',\n",
              "                                                     [key], {});\n",
              "          if (!dataTable) return;\n",
              "\n",
              "          const docLinkHtml = 'Like what you see? Visit the ' +\n",
              "            '<a target=\"_blank\" href=https://colab.research.google.com/notebooks/data_table.ipynb>data table notebook</a>'\n",
              "            + ' to learn more about interactive tables.';\n",
              "          element.innerHTML = '';\n",
              "          dataTable['output_type'] = 'display_data';\n",
              "          await google.colab.output.renderOutput(dataTable, element);\n",
              "          const docLink = document.createElement('div');\n",
              "          docLink.innerHTML = docLinkHtml;\n",
              "          element.appendChild(docLink);\n",
              "        }\n",
              "      </script>\n",
              "    </div>\n",
              "  </div>\n",
              "  "
            ]
          },
          "metadata": {},
          "execution_count": 45
        }
      ]
    },
    {
      "cell_type": "code",
      "metadata": {
        "id": "tgv1qIUZDMVc",
        "colab": {
          "base_uri": "https://localhost:8080/"
        },
        "outputId": "bfdd8cff-3a1a-4cea-f168-b4bf9f41d3cd"
      },
      "source": [
        "#stories_vw = pd.read_csv('/content/drive/My Drive/data_vw.csv')\n",
        "data = dataset.Dataset('/content/drive/My Drive/data_vw.csv')\n",
        "#, save_dataset_path='/content/drive/My Drive/'\n",
        "#data = Dataset(stories['text'])\n",
        "\n",
        "artm_model = init_simple_default_model(\n",
        "    dataset=data,\n",
        "    modalities_to_use={'@lemmatized': 1.0, '@bigram':0.5},\n",
        "    main_modality='@lemmatized',\n",
        "    specific_topics=10,\n",
        "    background_topics=0,\n",
        ")\n",
        "\n",
        "class CustomScore(BaseScore):\n",
        "    def __init__(self):\n",
        "        super().__init__()\n",
        "\n",
        "    def call(self,\n",
        "             model,\n",
        "             eps=1e-5,\n",
        "             n_specific_topics=14):\n",
        "\n",
        "        phi = model.get_phi().values[:,:n_specific_topics]\n",
        "        specific_sparsity = np.sum(phi < eps) / np.sum(phi < 1)\n",
        "\n",
        "        return specific_sparsity\n",
        "\n",
        "custom_scores = {'SpecificSparsity': CustomScore()}\n",
        "topic_model = TopicModel(artm_model, model_id='Groot', custom_scores=custom_scores)\n",
        "\n",
        "# experiment = Experiment(experiment_id=\"simple_experiment4\", save_path=\"experiments\", topic_model=topic_model)\n",
        "experiment = Experiment(experiment_id=\"experiment1\", save_path=\"experiments\", topic_model=topic_model, save_experiment=False)\n",
        "\n",
        "cube = RegularizersModifierCube(\n",
        "    num_iter=5,\n",
        "    tracked_score_function='PerplexityScore@lemmatized',\n",
        "    regularizer_parameters={\n",
        "        'regularizer': artm.DecorrelatorPhiRegularizer(name='decorrelation_phi', tau=0.5),\n",
        "        'tau_grid': [1, 2, 3, 4],\n",
        "    },\n",
        "    reg_search='grid',\n",
        "    verbose=True,\n",
        ")\n",
        "\n",
        "#experiment.run(data)\n",
        "cube(topic_model, data)"
      ],
      "execution_count": null,
      "outputs": [
        {
          "output_type": "stream",
          "name": "stderr",
          "text": [
            "/usr/local/lib/python3.7/dist-packages/topicnet/cooking_machine/dataset.py:220: FutureWarning:\n",
            "\n",
            "The error_bad_lines argument has been deprecated and will be removed in a future version.\n",
            "\n",
            "\n",
            "\n",
            "100%|██████████| 4/4 [02:32<00:00, 38.05s/it]\n",
            "  0%|          | 0/4 [02:56<?, ?it/s]\n"
          ]
        },
        {
          "output_type": "execute_result",
          "data": {
            "text/plain": [
              "[Model(id=--15h48m05s_29d03m2022y---, parent_id=-----------root-----------, experiment_id=experiment1),\n",
              " Model(id=--15h48m50s_29d03m2022y---, parent_id=-----------root-----------, experiment_id=experiment1),\n",
              " Model(id=--15h49m26s_29d03m2022y---, parent_id=-----------root-----------, experiment_id=experiment1),\n",
              " Model(id=--15h50m01s_29d03m2022y---, parent_id=-----------root-----------, experiment_id=experiment1)]"
            ]
          },
          "metadata": {},
          "execution_count": 61
        }
      ]
    },
    {
      "cell_type": "code",
      "source": [
        "perplexity_criterion = 'PerplexityScore@lemmatized -> min COLLECT 1'\n",
        "best_model = experiment.select(perplexity_criterion)\n",
        "\n",
        "toptok_viewer = TopTokensViewer(topic_model, num_top_tokens=10, method='phi')"
      ],
      "metadata": {
        "id": "Yn3vqyG6PPM2"
      },
      "execution_count": null,
      "outputs": []
    },
    {
      "cell_type": "code",
      "source": [
        "TN_topics_dict = toptok_viewer.view()"
      ],
      "metadata": {
        "id": "noRZ9ncNU04G"
      },
      "execution_count": null,
      "outputs": []
    },
    {
      "cell_type": "code",
      "source": [
        "TN_topics = []\n",
        "for out_key in TN_topics_dict:\n",
        "    cur_topic = []\n",
        "    for word in TN_topics_dict[out_key]['@lemmatized']:\n",
        "\n",
        "        cur_topic.append(word)\n",
        "    TN_topics.append(cur_topic)"
      ],
      "metadata": {
        "id": "-ublGED-YbJS"
      },
      "execution_count": null,
      "outputs": []
    },
    {
      "cell_type": "markdown",
      "metadata": {
        "id": "mteOYV8TDMVd"
      },
      "source": [
        "Write a function to convert new documents to topics probabilities vectors."
      ]
    },
    {
      "cell_type": "code",
      "metadata": {
        "id": "IGkD9YaxDMVd",
        "colab": {
          "base_uri": "https://localhost:8080/"
        },
        "outputId": "2db39ee6-d140-4916-ecc5-8606eb8b0885"
      },
      "source": [
        "def get_topic_prob(unseen_doc, model=lda):\n",
        "    return(lda.transform(unseen_doc))\n",
        "\n",
        "print(get_topic_prob(tf[-2:], lda) )"
      ],
      "execution_count": null,
      "outputs": [
        {
          "output_type": "stream",
          "name": "stdout",
          "text": [
            "[[0.01428694 0.01428636 0.01428571 0.20814651 0.01428571 0.2999983\n",
            "  0.01428571 0.15714356 0.01428571 0.24899548]\n",
            " [0.0125     0.012501   0.0125     0.0125     0.0125     0.0125\n",
            "  0.0125     0.63750038 0.26249862 0.0125    ]]\n"
          ]
        }
      ]
    },
    {
      "cell_type": "markdown",
      "metadata": {
        "id": "SPrNOdMLDMVd"
      },
      "source": [
        "Calculate the quality scores for each model. Make a barplot to compare the quality."
      ]
    },
    {
      "cell_type": "code",
      "metadata": {
        "id": "hQadAQCXDMVd",
        "colab": {
          "base_uri": "https://localhost:8080/"
        },
        "outputId": "1cf8f48c-ab9a-45b1-e5d7-e4097fcac948"
      },
      "source": [
        "coherence_NMF = coherence(documents_split, topics_NMF)\n",
        "npmi_NMF = n_pmi(documents_split, topics_NMF)\n",
        "bdwr_NMF = bdwr(topics_NMF)\n",
        "\n",
        "coherence_LDA = coherence(documents_split, topics_LDA)\n",
        "npmi_LDA = n_pmi(documents_split, topics_LDA)\n",
        "bdwr_LDA = bdwr(topics_LDA)\n",
        "\n",
        "coherence_TN = coherence(documents_split, TN_topics)\n",
        "npmi_TN = n_pmi(documents_split, TN_topics)\n",
        "bdwr_TN = bdwr(TN_topics)"
      ],
      "execution_count": null,
      "outputs": [
        {
          "output_type": "stream",
          "name": "stdout",
          "text": [
            "0.6292240811380446\n",
            "0.06556975325406608\n"
          ]
        },
        {
          "output_type": "stream",
          "name": "stderr",
          "text": [
            "/usr/local/lib/python3.7/dist-packages/smart_open/smart_open_lib.py:494: DeprecationWarning:\n",
            "\n",
            "This function is deprecated.  See https://github.com/RaRe-Technologies/smart_open/blob/develop/MIGRATING_FROM_OLDER_VERSIONS.rst for more information\n",
            "\n",
            "/usr/local/lib/python3.7/dist-packages/ipykernel_launcher.py:29: DeprecationWarning:\n",
            "\n",
            "Call to deprecated `wv` (Attribute will be removed in 4.0.0, use self instead).\n",
            "\n",
            "/usr/local/lib/python3.7/dist-packages/gensim/matutils.py:737: DeprecationWarning:\n",
            "\n",
            "`np.int` is a deprecated alias for the builtin `int`. To silence this warning, use `int` by itself. Doing this will not modify any behavior and is safe. When replacing `np.int`, you may wish to use e.g. `np.int64` or `np.int32` to specify the precision. If you wish to review your current use, check the release note link for additional information.\n",
            "Deprecated in NumPy 1.20; for more details and guidance: https://numpy.org/devdocs/release/1.20.0-notes.html#deprecations\n",
            "\n"
          ]
        },
        {
          "output_type": "stream",
          "name": "stdout",
          "text": [
            "0.5260713546575564\n",
            "-0.024333359299618683\n",
            "0.07828967303115547\n",
            "-0.5417976676836787\n"
          ]
        }
      ]
    },
    {
      "cell_type": "code",
      "source": [
        "# comparing coherence of the models\n",
        "\n",
        "n = 10\n",
        "r = np.arange(n)\n",
        "width = 0.25\n",
        "\n",
        "plt.figure(figsize=(14, 6))\n",
        "\n",
        "plt.bar(r, coherence_NMF, width = width, edgecolor = 'black', label='NMF')\n",
        "plt.bar(r + width, coherence_LDA, width = width, edgecolor = 'black', label='LDA')\n",
        "plt.bar(r + 2*width, coherence_TN, width = width, edgecolor = 'black', label='TN')\n",
        "\n",
        "plt.title('Comparing models by Coherence', fontsize=16)\n",
        "plt.xlabel('Topic', fontsize=16)\n",
        "plt.ylabel('Coherence score', fontsize=16)\n",
        "plt.xticks(r + width/3,['1','2','3','4','5','6','7','8','9','10'], fontsize=16)\n",
        "plt.legend(fontsize=14)\n",
        "plt.show()"
      ],
      "metadata": {
        "colab": {
          "base_uri": "https://localhost:8080/",
          "height": 416
        },
        "id": "jW3J-Lre2MYP",
        "outputId": "93a6730c-3dac-49f4-9c7e-44cb668796a7"
      },
      "execution_count": null,
      "outputs": [
        {
          "output_type": "display_data",
          "data": {
            "text/plain": [
              "<Figure size 1008x432 with 1 Axes>"
            ],
            "image/png": "[encoded data removed]"
          },
          "metadata": {
            "needs_background": "light"
          }
        }
      ]
    },
    {
      "cell_type": "code",
      "source": [
        "# comparing NPMI of the models\n",
        "\n",
        "n = 10\n",
        "r = np.arange(n)\n",
        "width = 0.25\n",
        "\n",
        "plt.figure(figsize=(14, 6))\n",
        "\n",
        "npmi_NMF = [abs(x) for x in npmi_NMF]\n",
        "npmi_LDA = [abs(x) for x in npmi_LDA]\n",
        "npmi_TN = [abs(x) for x in npmi_TN]\n",
        "\n",
        "plt.bar(r, npmi_NMF, width = width, edgecolor = 'black', label='NMF')\n",
        "plt.bar(r + width, npmi_LDA, width = width, edgecolor = 'black', label='LDA')\n",
        "plt.bar(r + 2 * width, npmi_TN, width = width, edgecolor = 'black', label='TN')\n",
        "\n",
        "plt.title('Comparing models by NPMI', fontsize=16)\n",
        "plt.xlabel('Topic', fontsize=16)\n",
        "plt.ylabel('NPMI score', fontsize=16)\n",
        "plt.xticks(r + width/2,['1','2','3','4','5','6','7','8','9','10'], fontsize=16)\n",
        "plt.legend(fontsize=16)\n",
        "plt.show()"
      ],
      "metadata": {
        "colab": {
          "base_uri": "https://localhost:8080/",
          "height": 416
        },
        "id": "ICJS_M3_xFEC",
        "outputId": "2f4bb80a-ccf9-4f58-a53f-5654f9d4e9c7"
      },
      "execution_count": null,
      "outputs": [
        {
          "output_type": "display_data",
          "data": {
            "text/plain": [
              "<Figure size 1008x432 with 1 Axes>"
            ],
            "image/png": "[encoded data removed]"
          },
          "metadata": {
            "needs_background": "light"
          }
        }
      ]
    },
    {
      "cell_type": "code",
      "source": [
        "# comparing BDWR of the models\n",
        "\n",
        "n = 10\n",
        "r = np.arange(n)\n",
        "width = 0.25\n",
        "\n",
        "plt.figure(figsize=(14, 6))\n",
        "\n",
        "plt.bar(r, bdwr_NMF, width = width, edgecolor = 'black', label='NMF')\n",
        "plt.bar(r + width, bdwr_LDA, width = width, edgecolor = 'black', label='LDA')\n",
        "plt.bar(r + 2*width, bdwr_TN, width = width, edgecolor = 'black', label='TN')\n",
        "\n",
        "plt.title('Comparing models by BDWR', fontsize=16)\n",
        "plt.xlabel('Topic', fontsize=16)\n",
        "plt.ylabel('BDWR score', fontsize=16)\n",
        "plt.xticks(r + width/3,['1','2','3','4','5','6','7','8','9','10'], fontsize=16)\n",
        "plt.legend(fontsize=16)\n",
        "plt.show()"
      ],
      "metadata": {
        "colab": {
          "base_uri": "https://localhost:8080/",
          "height": 416
        },
        "id": "BBmHnknX3nQk",
        "outputId": "0a0ab1cd-09a6-4a9f-935f-cb51cb911b9f"
      },
      "execution_count": null,
      "outputs": [
        {
          "output_type": "display_data",
          "data": {
            "text/plain": [
              "<Figure size 1008x432 with 1 Axes>"
            ],
            "image/png": "[encoded data removed]"
          },
          "metadata": {
            "needs_background": "light"
          }
        }
      ]
    }
  ]
}